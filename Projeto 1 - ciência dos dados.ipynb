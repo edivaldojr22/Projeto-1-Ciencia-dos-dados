{
 "cells": [
  {
   "cell_type": "markdown",
   "metadata": {},
   "source": [
    "___\n",
    "# ***Projeto 1 - Ciência dos dados | Edivaldo Rangel | Turma B***\n",
    "___\n"
   ]
  },
  {
   "cell_type": "markdown",
   "metadata": {},
   "source": [
    "# Pergunta norteadora: \n",
    "### Como as taxas de desemprego e crescimento econômico foram influenciados pela criação da EFTA e se houve alguma queda nesses indices para os países que saíram da organização  \n"
   ]
  },
  {
   "cell_type": "markdown",
   "metadata": {},
   "source": [
    "# **Definição da organização:** \n",
    "##### A EFTA (Associação Europeia de Comércio Livre) é um bloco econômico fundada em 4 de Janeiro de 1960 na cidade de Estocolmo, Suécia, pelo Reino Unido, Portugal, Dinamarca, Noruega, Suíça, Áustria e Suécia. Tinha como objetivo a criação de uma área de comércio livre cujo princípio era acabar com impostos aduaneiros entre os estados-membros, o que naturalmente serviu para fomentar as trocas internacionais no espaço desses países.\n",
    "  #####  Os atuais membros da organização são Islândia, Liechtenstein, Noruega, Suíça."
   ]
  },
  {
   "cell_type": "markdown",
   "metadata": {},
   "source": [
    "# Hipótese e Mecanismo:\n",
    "\n",
    "   ### Como o principal objetivo da organização é acabar com impostos alfandegários e fomentar trocas entre os países membros, é natural se esperar que isso aumentaria a oferta por emprego, principalmente na área de venda de produtos, já que a demanda aumentaria devido aos preços menores. Isso iria diminuir o desemprego e também agitaria o mercado, causando assim um crescimento econômico na área."
   ]
  },
  {
   "cell_type": "code",
   "execution_count": 2,
   "metadata": {},
   "outputs": [
    {
     "name": "stdout",
     "output_type": "stream",
     "text": [
      "C:\\Users\\ediva\n"
     ]
    }
   ],
   "source": [
    "%matplotlib inline\n",
    "import pandas as pd\n",
    "import matplotlib.pyplot as plt\n",
    "import numpy as np\n",
    "import os\n",
    "print(os.getcwd())"
   ]
  },
  {
   "cell_type": "code",
   "execution_count": null,
   "metadata": {},
   "outputs": [],
   "source": []
  }
 ],
 "metadata": {
  "kernelspec": {
   "display_name": "Python 3",
   "language": "python",
   "name": "python3"
  },
  "language_info": {
   "codemirror_mode": {
    "name": "ipython",
    "version": 3
   },
   "file_extension": ".py",
   "mimetype": "text/x-python",
   "name": "python",
   "nbconvert_exporter": "python",
   "pygments_lexer": "ipython3",
   "version": "3.7.1"
  }
 },
 "nbformat": 4,
 "nbformat_minor": 2
}
